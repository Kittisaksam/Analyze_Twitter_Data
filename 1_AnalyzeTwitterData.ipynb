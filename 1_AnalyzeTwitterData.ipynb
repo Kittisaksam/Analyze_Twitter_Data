{
  "nbformat": 4,
  "nbformat_minor": 0,
  "metadata": {
    "kernelspec": {
      "name": "python3",
      "display_name": "Python 3"
    },
    "language_info": {
      "codemirror_mode": {
        "name": "ipython",
        "version": 3
      },
      "file_extension": ".py",
      "mimetype": "text/x-python",
      "name": "python",
      "nbconvert_exporter": "python",
      "pygments_lexer": "ipython3",
      "version": "3.7.3"
    },
    "toc": {
      "base_numbering": 1,
      "nav_menu": {},
      "number_sections": true,
      "sideBar": true,
      "skip_h1_title": false,
      "title_cell": "Table of Contents",
      "title_sidebar": "Contents",
      "toc_cell": false,
      "toc_position": {
        "height": "calc(100% - 180px)",
        "left": "10px",
        "top": "150px",
        "width": "214.375px"
      },
      "toc_section_display": true,
      "toc_window_display": true
    },
    "varInspector": {
      "cols": {
        "lenName": 16,
        "lenType": 16,
        "lenVar": 40
      },
      "kernels_config": {
        "python": {
          "delete_cmd_postfix": "",
          "delete_cmd_prefix": "del ",
          "library": "var_list.py",
          "varRefreshCmd": "print(var_dic_list())"
        },
        "r": {
          "delete_cmd_postfix": ") ",
          "delete_cmd_prefix": "rm(",
          "library": "var_list.r",
          "varRefreshCmd": "cat(var_dic_list()) "
        }
      },
      "types_to_exclude": [
        "module",
        "function",
        "builtin_function_or_method",
        "instance",
        "_Feature"
      ],
      "window_display": false
    },
    "colab": {
      "name": "1_AnalyzeTwitterData.ipynb",
      "provenance": [],
      "collapsed_sections": []
    },
    "accelerator": "GPU"
  },
  "cells": [
    {
      "cell_type": "markdown",
      "metadata": {
        "id": "D2HHAa7JCSlt",
        "colab_type": "text"
      },
      "source": [
        "# LOAD LIBRARY"
      ]
    },
    {
      "cell_type": "code",
      "metadata": {
        "id": "GDraaQhMFGBA",
        "colab_type": "code",
        "outputId": "95851bf9-d297-4b6b-d1d6-2d51190d5cb1",
        "colab": {
          "base_uri": "https://localhost:8080/",
          "height": 1000
        }
      },
      "source": [
        "!pip install swifter"
      ],
      "execution_count": 1,
      "outputs": [
        {
          "output_type": "stream",
          "text": [
            "Requirement already satisfied: swifter in /usr/local/lib/python3.6/dist-packages (0.301)\n",
            "Requirement already satisfied: tqdm>=4.33.0 in /usr/local/lib/python3.6/dist-packages (from swifter) (4.43.0)\n",
            "Requirement already satisfied: psutil in /usr/local/lib/python3.6/dist-packages (from swifter) (5.4.8)\n",
            "Requirement already satisfied: ipywidgets>=7.0.0 in /usr/local/lib/python3.6/dist-packages (from swifter) (7.5.1)\n",
            "Requirement already satisfied: dask[complete]>=0.19.0 in /usr/local/lib/python3.6/dist-packages (from swifter) (2.9.2)\n",
            "Requirement already satisfied: pandas>=0.23.0 in /usr/local/lib/python3.6/dist-packages (from swifter) (0.25.3)\n",
            "Requirement already satisfied: numba in /usr/local/lib/python3.6/dist-packages (from swifter) (0.47.0)\n",
            "Requirement already satisfied: parso>0.4.0 in /usr/local/lib/python3.6/dist-packages (from swifter) (0.6.2)\n",
            "Requirement already satisfied: traitlets>=4.3.1 in /usr/local/lib/python3.6/dist-packages (from ipywidgets>=7.0.0->swifter) (4.3.3)\n",
            "Requirement already satisfied: widgetsnbextension~=3.5.0 in /usr/local/lib/python3.6/dist-packages (from ipywidgets>=7.0.0->swifter) (3.5.1)\n",
            "Requirement already satisfied: ipykernel>=4.5.1 in /usr/local/lib/python3.6/dist-packages (from ipywidgets>=7.0.0->swifter) (4.6.1)\n",
            "Requirement already satisfied: ipython>=4.0.0; python_version >= \"3.3\" in /usr/local/lib/python3.6/dist-packages (from ipywidgets>=7.0.0->swifter) (5.5.0)\n",
            "Requirement already satisfied: nbformat>=4.2.0 in /usr/local/lib/python3.6/dist-packages (from ipywidgets>=7.0.0->swifter) (5.0.4)\n",
            "Requirement already satisfied: toolz>=0.7.3; extra == \"complete\" in /usr/local/lib/python3.6/dist-packages (from dask[complete]>=0.19.0->swifter) (0.10.0)\n",
            "Requirement already satisfied: numpy>=1.13.0; extra == \"complete\" in /usr/local/lib/python3.6/dist-packages (from dask[complete]>=0.19.0->swifter) (1.17.5)\n",
            "Requirement already satisfied: partd>=0.3.10; extra == \"complete\" in /usr/local/lib/python3.6/dist-packages (from dask[complete]>=0.19.0->swifter) (1.1.0)\n",
            "Requirement already satisfied: distributed>=2.0; extra == \"complete\" in /usr/local/lib/python3.6/dist-packages (from dask[complete]>=0.19.0->swifter) (2.12.0)\n",
            "Requirement already satisfied: fsspec>=0.6.0; extra == \"complete\" in /usr/local/lib/python3.6/dist-packages (from dask[complete]>=0.19.0->swifter) (0.6.2)\n",
            "Requirement already satisfied: bokeh>=1.0.0; extra == \"complete\" in /usr/local/lib/python3.6/dist-packages (from dask[complete]>=0.19.0->swifter) (1.4.0)\n",
            "Requirement already satisfied: PyYaml; extra == \"complete\" in /usr/local/lib/python3.6/dist-packages (from dask[complete]>=0.19.0->swifter) (3.13)\n",
            "Requirement already satisfied: cloudpickle>=0.2.1; extra == \"complete\" in /usr/local/lib/python3.6/dist-packages (from dask[complete]>=0.19.0->swifter) (1.2.2)\n",
            "Requirement already satisfied: pytz>=2017.2 in /usr/local/lib/python3.6/dist-packages (from pandas>=0.23.0->swifter) (2018.9)\n",
            "Requirement already satisfied: python-dateutil>=2.6.1 in /usr/local/lib/python3.6/dist-packages (from pandas>=0.23.0->swifter) (2.6.1)\n",
            "Requirement already satisfied: setuptools in /usr/local/lib/python3.6/dist-packages (from numba->swifter) (45.2.0)\n",
            "Requirement already satisfied: llvmlite>=0.31.0dev0 in /usr/local/lib/python3.6/dist-packages (from numba->swifter) (0.31.0)\n",
            "Requirement already satisfied: six in /usr/local/lib/python3.6/dist-packages (from traitlets>=4.3.1->ipywidgets>=7.0.0->swifter) (1.12.0)\n",
            "Requirement already satisfied: decorator in /usr/local/lib/python3.6/dist-packages (from traitlets>=4.3.1->ipywidgets>=7.0.0->swifter) (4.4.1)\n",
            "Requirement already satisfied: ipython-genutils in /usr/local/lib/python3.6/dist-packages (from traitlets>=4.3.1->ipywidgets>=7.0.0->swifter) (0.2.0)\n",
            "Requirement already satisfied: notebook>=4.4.1 in /usr/local/lib/python3.6/dist-packages (from widgetsnbextension~=3.5.0->ipywidgets>=7.0.0->swifter) (5.2.2)\n",
            "Requirement already satisfied: tornado>=4.0 in /usr/local/lib/python3.6/dist-packages (from ipykernel>=4.5.1->ipywidgets>=7.0.0->swifter) (4.5.3)\n",
            "Requirement already satisfied: jupyter-client in /usr/local/lib/python3.6/dist-packages (from ipykernel>=4.5.1->ipywidgets>=7.0.0->swifter) (5.3.4)\n",
            "Requirement already satisfied: pygments in /usr/local/lib/python3.6/dist-packages (from ipython>=4.0.0; python_version >= \"3.3\"->ipywidgets>=7.0.0->swifter) (2.1.3)\n",
            "Requirement already satisfied: simplegeneric>0.8 in /usr/local/lib/python3.6/dist-packages (from ipython>=4.0.0; python_version >= \"3.3\"->ipywidgets>=7.0.0->swifter) (0.8.1)\n",
            "Requirement already satisfied: pexpect; sys_platform != \"win32\" in /usr/local/lib/python3.6/dist-packages (from ipython>=4.0.0; python_version >= \"3.3\"->ipywidgets>=7.0.0->swifter) (4.8.0)\n",
            "Requirement already satisfied: pickleshare in /usr/local/lib/python3.6/dist-packages (from ipython>=4.0.0; python_version >= \"3.3\"->ipywidgets>=7.0.0->swifter) (0.7.5)\n",
            "Requirement already satisfied: prompt-toolkit<2.0.0,>=1.0.4 in /usr/local/lib/python3.6/dist-packages (from ipython>=4.0.0; python_version >= \"3.3\"->ipywidgets>=7.0.0->swifter) (1.0.18)\n",
            "Requirement already satisfied: jsonschema!=2.5.0,>=2.4 in /usr/local/lib/python3.6/dist-packages (from nbformat>=4.2.0->ipywidgets>=7.0.0->swifter) (2.6.0)\n",
            "Requirement already satisfied: jupyter-core in /usr/local/lib/python3.6/dist-packages (from nbformat>=4.2.0->ipywidgets>=7.0.0->swifter) (4.6.2)\n",
            "Requirement already satisfied: locket in /usr/local/lib/python3.6/dist-packages (from partd>=0.3.10; extra == \"complete\"->dask[complete]>=0.19.0->swifter) (0.2.0)\n",
            "Requirement already satisfied: msgpack>=0.6.0 in /usr/local/lib/python3.6/dist-packages (from distributed>=2.0; extra == \"complete\"->dask[complete]>=0.19.0->swifter) (1.0.0)\n",
            "Requirement already satisfied: click>=6.6 in /usr/local/lib/python3.6/dist-packages (from distributed>=2.0; extra == \"complete\"->dask[complete]>=0.19.0->swifter) (7.0)\n",
            "Requirement already satisfied: tblib>=1.6.0 in /usr/local/lib/python3.6/dist-packages (from distributed>=2.0; extra == \"complete\"->dask[complete]>=0.19.0->swifter) (1.6.0)\n",
            "Requirement already satisfied: zict>=0.1.3 in /usr/local/lib/python3.6/dist-packages (from distributed>=2.0; extra == \"complete\"->dask[complete]>=0.19.0->swifter) (1.0.0)\n",
            "Requirement already satisfied: sortedcontainers!=2.0.0,!=2.0.1 in /usr/local/lib/python3.6/dist-packages (from distributed>=2.0; extra == \"complete\"->dask[complete]>=0.19.0->swifter) (2.1.0)\n",
            "Requirement already satisfied: pillow>=4.0 in /usr/local/lib/python3.6/dist-packages (from bokeh>=1.0.0; extra == \"complete\"->dask[complete]>=0.19.0->swifter) (6.2.2)\n",
            "Requirement already satisfied: packaging>=16.8 in /usr/local/lib/python3.6/dist-packages (from bokeh>=1.0.0; extra == \"complete\"->dask[complete]>=0.19.0->swifter) (20.1)\n",
            "Requirement already satisfied: Jinja2>=2.7 in /usr/local/lib/python3.6/dist-packages (from bokeh>=1.0.0; extra == \"complete\"->dask[complete]>=0.19.0->swifter) (2.11.1)\n",
            "Requirement already satisfied: nbconvert in /usr/local/lib/python3.6/dist-packages (from notebook>=4.4.1->widgetsnbextension~=3.5.0->ipywidgets>=7.0.0->swifter) (5.6.1)\n",
            "Requirement already satisfied: terminado>=0.3.3; sys_platform != \"win32\" in /usr/local/lib/python3.6/dist-packages (from notebook>=4.4.1->widgetsnbextension~=3.5.0->ipywidgets>=7.0.0->swifter) (0.8.3)\n",
            "Requirement already satisfied: pyzmq>=13 in /usr/local/lib/python3.6/dist-packages (from jupyter-client->ipykernel>=4.5.1->ipywidgets>=7.0.0->swifter) (17.0.0)\n",
            "Requirement already satisfied: ptyprocess>=0.5 in /usr/local/lib/python3.6/dist-packages (from pexpect; sys_platform != \"win32\"->ipython>=4.0.0; python_version >= \"3.3\"->ipywidgets>=7.0.0->swifter) (0.6.0)\n",
            "Requirement already satisfied: wcwidth in /usr/local/lib/python3.6/dist-packages (from prompt-toolkit<2.0.0,>=1.0.4->ipython>=4.0.0; python_version >= \"3.3\"->ipywidgets>=7.0.0->swifter) (0.1.8)\n",
            "Requirement already satisfied: heapdict in /usr/local/lib/python3.6/dist-packages (from zict>=0.1.3->distributed>=2.0; extra == \"complete\"->dask[complete]>=0.19.0->swifter) (1.0.1)\n",
            "Requirement already satisfied: pyparsing>=2.0.2 in /usr/local/lib/python3.6/dist-packages (from packaging>=16.8->bokeh>=1.0.0; extra == \"complete\"->dask[complete]>=0.19.0->swifter) (2.4.6)\n",
            "Requirement already satisfied: MarkupSafe>=0.23 in /usr/local/lib/python3.6/dist-packages (from Jinja2>=2.7->bokeh>=1.0.0; extra == \"complete\"->dask[complete]>=0.19.0->swifter) (1.1.1)\n",
            "Requirement already satisfied: bleach in /usr/local/lib/python3.6/dist-packages (from nbconvert->notebook>=4.4.1->widgetsnbextension~=3.5.0->ipywidgets>=7.0.0->swifter) (3.1.0)\n",
            "Requirement already satisfied: defusedxml in /usr/local/lib/python3.6/dist-packages (from nbconvert->notebook>=4.4.1->widgetsnbextension~=3.5.0->ipywidgets>=7.0.0->swifter) (0.6.0)\n",
            "Requirement already satisfied: mistune<2,>=0.8.1 in /usr/local/lib/python3.6/dist-packages (from nbconvert->notebook>=4.4.1->widgetsnbextension~=3.5.0->ipywidgets>=7.0.0->swifter) (0.8.4)\n",
            "Requirement already satisfied: entrypoints>=0.2.2 in /usr/local/lib/python3.6/dist-packages (from nbconvert->notebook>=4.4.1->widgetsnbextension~=3.5.0->ipywidgets>=7.0.0->swifter) (0.3)\n",
            "Requirement already satisfied: testpath in /usr/local/lib/python3.6/dist-packages (from nbconvert->notebook>=4.4.1->widgetsnbextension~=3.5.0->ipywidgets>=7.0.0->swifter) (0.4.4)\n",
            "Requirement already satisfied: pandocfilters>=1.4.1 in /usr/local/lib/python3.6/dist-packages (from nbconvert->notebook>=4.4.1->widgetsnbextension~=3.5.0->ipywidgets>=7.0.0->swifter) (1.4.2)\n",
            "Requirement already satisfied: webencodings in /usr/local/lib/python3.6/dist-packages (from bleach->nbconvert->notebook>=4.4.1->widgetsnbextension~=3.5.0->ipywidgets>=7.0.0->swifter) (0.5.1)\n"
          ],
          "name": "stdout"
        }
      ]
    },
    {
      "cell_type": "code",
      "metadata": {
        "id": "ySnRYDa3CSlw",
        "colab_type": "code",
        "colab": {}
      },
      "source": [
        "import json\n",
        "import time\n",
        "import os\n",
        "import re\n",
        "import swifter\n",
        "import numpy as np\n",
        "import pandas as pd\n",
        "from datetime import datetime, timedelta\n",
        "from tqdm.autonotebook import tqdm\n",
        "\n",
        "pd.set_option('display.max_colwidth', -1)\n",
        "pd.options.display.max_columns = None\n"
      ],
      "execution_count": 0,
      "outputs": []
    },
    {
      "cell_type": "code",
      "metadata": {
        "id": "yVhYGgsIF3kd",
        "colab_type": "code",
        "outputId": "dbbb1b6e-d460-4f7a-c420-98cb1c7fc354",
        "colab": {
          "base_uri": "https://localhost:8080/",
          "height": 108
        }
      },
      "source": [
        "!ls -al"
      ],
      "execution_count": 3,
      "outputs": [
        {
          "output_type": "stream",
          "text": [
            "total 16\n",
            "drwxr-xr-x 1 root root 4096 Mar  3 18:11 .\n",
            "drwxr-xr-x 1 root root 4096 Mar 14 09:34 ..\n",
            "drwxr-xr-x 1 root root 4096 Mar  3 18:11 .config\n",
            "drwxr-xr-x 1 root root 4096 Mar  3 18:11 sample_data\n"
          ],
          "name": "stdout"
        }
      ]
    },
    {
      "cell_type": "markdown",
      "metadata": {
        "id": "veHssBYCCSl6",
        "colab_type": "text"
      },
      "source": [
        "# LOAD DATA"
      ]
    },
    {
      "cell_type": "code",
      "metadata": {
        "id": "42GogvR_CSl7",
        "colab_type": "code",
        "outputId": "8e16cafd-a6a8-4be7-b578-9ec768707393",
        "colab": {
          "base_uri": "https://localhost:8080/",
          "height": 712
        }
      },
      "source": [
        "df = pd.read_csv('TwitterData.csv')\n",
        "df = df[df['lang'] == 'en']\n",
        "\n",
        "print('Data count :', len(df))\n",
        "display(df.head(3))"
      ],
      "execution_count": 4,
      "outputs": [
        {
          "output_type": "stream",
          "text": [
            "Data count : 203812\n"
          ],
          "name": "stdout"
        },
        {
          "output_type": "display_data",
          "data": {
            "text/html": [
              "<div>\n",
              "<style scoped>\n",
              "    .dataframe tbody tr th:only-of-type {\n",
              "        vertical-align: middle;\n",
              "    }\n",
              "\n",
              "    .dataframe tbody tr th {\n",
              "        vertical-align: top;\n",
              "    }\n",
              "\n",
              "    .dataframe thead th {\n",
              "        text-align: right;\n",
              "    }\n",
              "</style>\n",
              "<table border=\"1\" class=\"dataframe\">\n",
              "  <thead>\n",
              "    <tr style=\"text-align: right;\">\n",
              "      <th></th>\n",
              "      <th>created_at</th>\n",
              "      <th>twitter_id</th>\n",
              "      <th>text</th>\n",
              "      <th>user_id</th>\n",
              "      <th>user_name</th>\n",
              "      <th>screen_name</th>\n",
              "      <th>followers_count</th>\n",
              "      <th>friends_count</th>\n",
              "      <th>profile_image</th>\n",
              "      <th>retweet_count</th>\n",
              "      <th>favorite_count</th>\n",
              "      <th>lang</th>\n",
              "      <th>latitude</th>\n",
              "      <th>longitude</th>\n",
              "      <th>place_type</th>\n",
              "      <th>place_name</th>\n",
              "      <th>place_full_name</th>\n",
              "      <th>country_code</th>\n",
              "      <th>country</th>\n",
              "      <th>disaster_type</th>\n",
              "      <th>date</th>\n",
              "    </tr>\n",
              "  </thead>\n",
              "  <tbody>\n",
              "    <tr>\n",
              "      <th>1</th>\n",
              "      <td>2019-08-01 09:04:50</td>\n",
              "      <td>1156853283950141444</td>\n",
              "      <td>RT @lj1105: I’m getting static on my posting of the Bible stance on Homosexuality. Make no mistake,,Homosexuals will NOT inherit the Kingdom. They WILL burn forever in the Lake Of Fire. They CAN ,however,be forgiven and have their sins blotted out. It’s your choice , life or death ?</td>\n",
              "      <td>742203452</td>\n",
              "      <td>@Ray mond</td>\n",
              "      <td>realraymondp</td>\n",
              "      <td>506</td>\n",
              "      <td>676</td>\n",
              "      <td>http://pbs.twimg.com/profile_images/1147117231404457990/iuAjZLdb_normal.jpg</td>\n",
              "      <td>2</td>\n",
              "      <td>0</td>\n",
              "      <td>en</td>\n",
              "      <td>NaN</td>\n",
              "      <td>NaN</td>\n",
              "      <td>NaN</td>\n",
              "      <td>NaN</td>\n",
              "      <td>NaN</td>\n",
              "      <td>NaN</td>\n",
              "      <td>NaN</td>\n",
              "      <td>fire</td>\n",
              "      <td>2019-08-01</td>\n",
              "    </tr>\n",
              "    <tr>\n",
              "      <th>2</th>\n",
              "      <td>2019-08-01 09:04:50</td>\n",
              "      <td>1156853282012356608</td>\n",
              "      <td>a night in my life consists of\\n1. me sleeping under a duvet and two thick wool blankets and still being cold bc my inner heating system is BROKEN i guess\\n2. me waking up at 3am on fire, because my dog has decided to snuggle in so now i have a duvet, 2 wool blankets, and a HEATER</td>\n",
              "      <td>2161529938</td>\n",
              "      <td>jenny 🌻</td>\n",
              "      <td>zebraflavoured</td>\n",
              "      <td>57</td>\n",
              "      <td>53</td>\n",
              "      <td>http://pbs.twimg.com/profile_images/1135299216052445184/74Yi0d2Y_normal.png</td>\n",
              "      <td>0</td>\n",
              "      <td>0</td>\n",
              "      <td>en</td>\n",
              "      <td>NaN</td>\n",
              "      <td>NaN</td>\n",
              "      <td>NaN</td>\n",
              "      <td>NaN</td>\n",
              "      <td>NaN</td>\n",
              "      <td>NaN</td>\n",
              "      <td>NaN</td>\n",
              "      <td>fire</td>\n",
              "      <td>2019-08-01</td>\n",
              "    </tr>\n",
              "    <tr>\n",
              "      <th>3</th>\n",
              "      <td>2019-08-01 09:04:50</td>\n",
              "      <td>1156853281915908096</td>\n",
              "      <td>RT @NWSTopeka: More rain tonight and Friday. Additional rainfall of 2 to 4 inches is possible. Be ready to take action if in a flood prone area. #kswx https://t.co/WQiwaLuRDz</td>\n",
              "      <td>817325871560347649</td>\n",
              "      <td>KS Weather Updates</td>\n",
              "      <td>weather_ks</td>\n",
              "      <td>322</td>\n",
              "      <td>290</td>\n",
              "      <td>http://pbs.twimg.com/profile_images/817330554853085184/N1CYTsHw_normal.jpg</td>\n",
              "      <td>1</td>\n",
              "      <td>0</td>\n",
              "      <td>en</td>\n",
              "      <td>NaN</td>\n",
              "      <td>NaN</td>\n",
              "      <td>NaN</td>\n",
              "      <td>NaN</td>\n",
              "      <td>NaN</td>\n",
              "      <td>NaN</td>\n",
              "      <td>NaN</td>\n",
              "      <td>flood</td>\n",
              "      <td>2019-08-01</td>\n",
              "    </tr>\n",
              "  </tbody>\n",
              "</table>\n",
              "</div>"
            ],
            "text/plain": [
              "            created_at           twitter_id  \\\n",
              "1  2019-08-01 09:04:50  1156853283950141444   \n",
              "2  2019-08-01 09:04:50  1156853282012356608   \n",
              "3  2019-08-01 09:04:50  1156853281915908096   \n",
              "\n",
              "                                                                                                                                                                                                                                                                                          text  \\\n",
              "1  RT @lj1105: I’m getting static on my posting of the Bible stance on Homosexuality. Make no mistake,,Homosexuals will NOT inherit the Kingdom. They WILL burn forever in the Lake Of Fire. They CAN ,however,be forgiven and have their sins blotted out. It’s your choice , life or death ?   \n",
              "2  a night in my life consists of\\n1. me sleeping under a duvet and two thick wool blankets and still being cold bc my inner heating system is BROKEN i guess\\n2. me waking up at 3am on fire, because my dog has decided to snuggle in so now i have a duvet, 2 wool blankets, and a HEATER     \n",
              "3  RT @NWSTopeka: More rain tonight and Friday. Additional rainfall of 2 to 4 inches is possible. Be ready to take action if in a flood prone area. #kswx https://t.co/WQiwaLuRDz                                                                                                                \n",
              "\n",
              "              user_id           user_name     screen_name  followers_count  \\\n",
              "1  742203452           @Ray mond           realraymondp    506               \n",
              "2  2161529938          jenny 🌻             zebraflavoured  57                \n",
              "3  817325871560347649  KS Weather Updates  weather_ks      322               \n",
              "\n",
              "   friends_count  \\\n",
              "1  676             \n",
              "2  53              \n",
              "3  290             \n",
              "\n",
              "                                                                 profile_image  \\\n",
              "1  http://pbs.twimg.com/profile_images/1147117231404457990/iuAjZLdb_normal.jpg   \n",
              "2  http://pbs.twimg.com/profile_images/1135299216052445184/74Yi0d2Y_normal.png   \n",
              "3  http://pbs.twimg.com/profile_images/817330554853085184/N1CYTsHw_normal.jpg    \n",
              "\n",
              "   retweet_count  favorite_count lang  latitude  longitude place_type  \\\n",
              "1  2              0               en  NaN       NaN         NaN         \n",
              "2  0              0               en  NaN       NaN         NaN         \n",
              "3  1              0               en  NaN       NaN         NaN         \n",
              "\n",
              "  place_name place_full_name country_code country disaster_type        date  \n",
              "1  NaN        NaN             NaN          NaN     fire          2019-08-01  \n",
              "2  NaN        NaN             NaN          NaN     fire          2019-08-01  \n",
              "3  NaN        NaN             NaN          NaN     flood         2019-08-01  "
            ]
          },
          "metadata": {
            "tags": []
          }
        }
      ]
    },
    {
      "cell_type": "markdown",
      "metadata": {
        "id": "ZX1B-opECSmC",
        "colab_type": "text"
      },
      "source": [
        "# PREPROCESS"
      ]
    },
    {
      "cell_type": "markdown",
      "metadata": {
        "id": "bA53A1IdCSmE",
        "colab_type": "text"
      },
      "source": [
        "## CORRECT DATA TYPE"
      ]
    },
    {
      "cell_type": "code",
      "metadata": {
        "id": "Pq1fuy5lCSmH",
        "colab_type": "code",
        "colab": {}
      },
      "source": [
        "df['created_at'] = df['created_at'].astype('datetime64[ns]')\n",
        "df['date'] = df['date'].astype('datetime64[ns]').dt.date"
      ],
      "execution_count": 0,
      "outputs": []
    },
    {
      "cell_type": "code",
      "metadata": {
        "id": "ZiqKMsb2CSmL",
        "colab_type": "code",
        "outputId": "2a59e107-d0f2-4ffa-d846-653a58a772b9",
        "colab": {
          "base_uri": "https://localhost:8080/",
          "height": 417
        }
      },
      "source": [
        "df.dtypes"
      ],
      "execution_count": 6,
      "outputs": [
        {
          "output_type": "execute_result",
          "data": {
            "text/plain": [
              "created_at         datetime64[ns]\n",
              "twitter_id         int64         \n",
              "text               object        \n",
              "user_id            int64         \n",
              "user_name          object        \n",
              "screen_name        object        \n",
              "followers_count    int64         \n",
              "friends_count      int64         \n",
              "profile_image      object        \n",
              "retweet_count      int64         \n",
              "favorite_count     int64         \n",
              "lang               object        \n",
              "latitude           float64       \n",
              "longitude          float64       \n",
              "place_type         object        \n",
              "place_name         object        \n",
              "place_full_name    object        \n",
              "country_code       object        \n",
              "country            object        \n",
              "disaster_type      object        \n",
              "date               object        \n",
              "dtype: object"
            ]
          },
          "metadata": {
            "tags": []
          },
          "execution_count": 6
        }
      ]
    },
    {
      "cell_type": "markdown",
      "metadata": {
        "id": "t7gPAmbgCSmQ",
        "colab_type": "text"
      },
      "source": [
        "## CLEAN TEXT"
      ]
    },
    {
      "cell_type": "code",
      "metadata": {
        "id": "0qu6LUEACSmR",
        "colab_type": "code",
        "colab": {}
      },
      "source": [
        "def remove_url(text):\n",
        "    urlPattern = \"((https?|ftp|gopher|telnet|file|Unsure|http):((//)|(\\\\\\\\))+[\\\\w\\\\d:#@%/;$()~_?\\\\+-=\\\\\\\\\\\\.&]*)\"\n",
        "    text = re.sub(urlPattern, '', text)\n",
        "    return text\n",
        "\n",
        "def remove_rt(text):\n",
        "    text = re.sub('^rt @[\\\\w]*: ', '', text).strip()\n",
        "    return text\n",
        "\n",
        "def remove_at(text):\n",
        "    text = re.sub('@[\\\\w]*', '', text).strip()\n",
        "    return text\n",
        "\n",
        "def clean_text(text):\n",
        "    text = text.lower().replace('\\n', '').replace('\\t', '')\n",
        "    text = remove_url(text)\n",
        "    text = remove_rt(text)\n",
        "    text = remove_at(text)\n",
        "    text = (text\n",
        "            .replace(':', ' ')\n",
        "            .replace(',', ' ')\n",
        "            .replace('!', ' ')\n",
        "            .replace('#', ' ')\n",
        "            .replace('(', ' ')\n",
        "            .replace(')', ' ')\n",
        "            .replace('\"', ' ')\n",
        "            .replace(\"'\", ' ')\n",
        "            .replace('?', ' ')\n",
        "            .replace('”', ' ')\n",
        "            .replace(\"’\", ' ')\n",
        "           )\n",
        "    text = re.sub(' +', ' ', text)\n",
        "    text = re.sub('\\.+', '\\.', text)\n",
        "    text = text.strip()\n",
        "    \n",
        "    return text"
      ],
      "execution_count": 0,
      "outputs": []
    },
    {
      "cell_type": "code",
      "metadata": {
        "id": "GCg2sZhjCSmV",
        "colab_type": "code",
        "outputId": "8a4ae788-d24b-44a5-e67c-c60858e2da94",
        "colab": {
          "base_uri": "https://localhost:8080/",
          "height": 363
        }
      },
      "source": [
        "df['clean_text'] = df['text'].apply(clean_text)\n",
        "df[['text', 'clean_text']].head(3)"
      ],
      "execution_count": 8,
      "outputs": [
        {
          "output_type": "execute_result",
          "data": {
            "text/html": [
              "<div>\n",
              "<style scoped>\n",
              "    .dataframe tbody tr th:only-of-type {\n",
              "        vertical-align: middle;\n",
              "    }\n",
              "\n",
              "    .dataframe tbody tr th {\n",
              "        vertical-align: top;\n",
              "    }\n",
              "\n",
              "    .dataframe thead th {\n",
              "        text-align: right;\n",
              "    }\n",
              "</style>\n",
              "<table border=\"1\" class=\"dataframe\">\n",
              "  <thead>\n",
              "    <tr style=\"text-align: right;\">\n",
              "      <th></th>\n",
              "      <th>text</th>\n",
              "      <th>clean_text</th>\n",
              "    </tr>\n",
              "  </thead>\n",
              "  <tbody>\n",
              "    <tr>\n",
              "      <th>1</th>\n",
              "      <td>RT @lj1105: I’m getting static on my posting of the Bible stance on Homosexuality. Make no mistake,,Homosexuals will NOT inherit the Kingdom. They WILL burn forever in the Lake Of Fire. They CAN ,however,be forgiven and have their sins blotted out. It’s your choice , life or death ?</td>\n",
              "      <td>i m getting static on my posting of the bible stance on homosexuality\\. make no mistake homosexuals will not inherit the kingdom\\. they will burn forever in the lake of fire\\. they can however be forgiven and have their sins blotted out\\. it s your choice life or death</td>\n",
              "    </tr>\n",
              "    <tr>\n",
              "      <th>2</th>\n",
              "      <td>a night in my life consists of\\n1. me sleeping under a duvet and two thick wool blankets and still being cold bc my inner heating system is BROKEN i guess\\n2. me waking up at 3am on fire, because my dog has decided to snuggle in so now i have a duvet, 2 wool blankets, and a HEATER</td>\n",
              "      <td>a night in my life consists of1\\. me sleeping under a duvet and two thick wool blankets and still being cold bc my inner heating system is broken i guess2\\. me waking up at 3am on fire because my dog has decided to snuggle in so now i have a duvet 2 wool blankets and a heater</td>\n",
              "    </tr>\n",
              "    <tr>\n",
              "      <th>3</th>\n",
              "      <td>RT @NWSTopeka: More rain tonight and Friday. Additional rainfall of 2 to 4 inches is possible. Be ready to take action if in a flood prone area. #kswx https://t.co/WQiwaLuRDz</td>\n",
              "      <td>more rain tonight and friday\\. additional rainfall of 2 to 4 inches is possible\\. be ready to take action if in a flood prone area\\. kswx</td>\n",
              "    </tr>\n",
              "  </tbody>\n",
              "</table>\n",
              "</div>"
            ],
            "text/plain": [
              "                                                                                                                                                                                                                                                                                          text  \\\n",
              "1  RT @lj1105: I’m getting static on my posting of the Bible stance on Homosexuality. Make no mistake,,Homosexuals will NOT inherit the Kingdom. They WILL burn forever in the Lake Of Fire. They CAN ,however,be forgiven and have their sins blotted out. It’s your choice , life or death ?   \n",
              "2  a night in my life consists of\\n1. me sleeping under a duvet and two thick wool blankets and still being cold bc my inner heating system is BROKEN i guess\\n2. me waking up at 3am on fire, because my dog has decided to snuggle in so now i have a duvet, 2 wool blankets, and a HEATER     \n",
              "3  RT @NWSTopeka: More rain tonight and Friday. Additional rainfall of 2 to 4 inches is possible. Be ready to take action if in a flood prone area. #kswx https://t.co/WQiwaLuRDz                                                                                                                \n",
              "\n",
              "                                                                                                                                                                                                                                                                             clean_text  \n",
              "1  i m getting static on my posting of the bible stance on homosexuality\\. make no mistake homosexuals will not inherit the kingdom\\. they will burn forever in the lake of fire\\. they can however be forgiven and have their sins blotted out\\. it s your choice life or death         \n",
              "2  a night in my life consists of1\\. me sleeping under a duvet and two thick wool blankets and still being cold bc my inner heating system is broken i guess2\\. me waking up at 3am on fire because my dog has decided to snuggle in so now i have a duvet 2 wool blankets and a heater  \n",
              "3  more rain tonight and friday\\. additional rainfall of 2 to 4 inches is possible\\. be ready to take action if in a flood prone area\\. kswx                                                                                                                                             "
            ]
          },
          "metadata": {
            "tags": []
          },
          "execution_count": 8
        }
      ]
    },
    {
      "cell_type": "markdown",
      "metadata": {
        "id": "p0CerUjgCSmc",
        "colab_type": "text"
      },
      "source": [
        "## TIME TO MINUTE"
      ]
    },
    {
      "cell_type": "code",
      "metadata": {
        "id": "cC4fNki9CSme",
        "colab_type": "code",
        "colab": {}
      },
      "source": [
        "unix_epoch = np.datetime64(0, 's')\n",
        "one_second = np.timedelta64(1, 's')\n",
        "\n",
        "def minute(dt64):\n",
        "    seconds_since_epoch = (dt64 - unix_epoch) / one_second\n",
        "    dt = datetime.utcfromtimestamp(seconds_since_epoch)\n",
        "    dt = dt.replace(second=0, microsecond=0)\n",
        "    return dt"
      ],
      "execution_count": 0,
      "outputs": []
    },
    {
      "cell_type": "code",
      "metadata": {
        "scrolled": true,
        "id": "BIvjKKCNCSmi",
        "colab_type": "code",
        "outputId": "1a7b2185-0228-4ef2-a600-dd4a977c05b6",
        "colab": {
          "base_uri": "https://localhost:8080/",
          "height": 1000
        }
      },
      "source": [
        "df['created_at'] = df['created_at'].apply(lambda x : minute(x))\n",
        "df.head(3)"
      ],
      "execution_count": 10,
      "outputs": [
        {
          "output_type": "execute_result",
          "data": {
            "text/html": [
              "<div>\n",
              "<style scoped>\n",
              "    .dataframe tbody tr th:only-of-type {\n",
              "        vertical-align: middle;\n",
              "    }\n",
              "\n",
              "    .dataframe tbody tr th {\n",
              "        vertical-align: top;\n",
              "    }\n",
              "\n",
              "    .dataframe thead th {\n",
              "        text-align: right;\n",
              "    }\n",
              "</style>\n",
              "<table border=\"1\" class=\"dataframe\">\n",
              "  <thead>\n",
              "    <tr style=\"text-align: right;\">\n",
              "      <th></th>\n",
              "      <th>created_at</th>\n",
              "      <th>twitter_id</th>\n",
              "      <th>text</th>\n",
              "      <th>user_id</th>\n",
              "      <th>user_name</th>\n",
              "      <th>screen_name</th>\n",
              "      <th>followers_count</th>\n",
              "      <th>friends_count</th>\n",
              "      <th>profile_image</th>\n",
              "      <th>retweet_count</th>\n",
              "      <th>favorite_count</th>\n",
              "      <th>lang</th>\n",
              "      <th>latitude</th>\n",
              "      <th>longitude</th>\n",
              "      <th>place_type</th>\n",
              "      <th>place_name</th>\n",
              "      <th>place_full_name</th>\n",
              "      <th>country_code</th>\n",
              "      <th>country</th>\n",
              "      <th>disaster_type</th>\n",
              "      <th>date</th>\n",
              "      <th>clean_text</th>\n",
              "    </tr>\n",
              "  </thead>\n",
              "  <tbody>\n",
              "    <tr>\n",
              "      <th>1</th>\n",
              "      <td>2019-08-01 09:04:00</td>\n",
              "      <td>1156853283950141444</td>\n",
              "      <td>RT @lj1105: I’m getting static on my posting of the Bible stance on Homosexuality. Make no mistake,,Homosexuals will NOT inherit the Kingdom. They WILL burn forever in the Lake Of Fire. They CAN ,however,be forgiven and have their sins blotted out. It’s your choice , life or death ?</td>\n",
              "      <td>742203452</td>\n",
              "      <td>@Ray mond</td>\n",
              "      <td>realraymondp</td>\n",
              "      <td>506</td>\n",
              "      <td>676</td>\n",
              "      <td>http://pbs.twimg.com/profile_images/1147117231404457990/iuAjZLdb_normal.jpg</td>\n",
              "      <td>2</td>\n",
              "      <td>0</td>\n",
              "      <td>en</td>\n",
              "      <td>NaN</td>\n",
              "      <td>NaN</td>\n",
              "      <td>NaN</td>\n",
              "      <td>NaN</td>\n",
              "      <td>NaN</td>\n",
              "      <td>NaN</td>\n",
              "      <td>NaN</td>\n",
              "      <td>fire</td>\n",
              "      <td>2019-08-01</td>\n",
              "      <td>i m getting static on my posting of the bible stance on homosexuality\\. make no mistake homosexuals will not inherit the kingdom\\. they will burn forever in the lake of fire\\. they can however be forgiven and have their sins blotted out\\. it s your choice life or death</td>\n",
              "    </tr>\n",
              "    <tr>\n",
              "      <th>2</th>\n",
              "      <td>2019-08-01 09:04:00</td>\n",
              "      <td>1156853282012356608</td>\n",
              "      <td>a night in my life consists of\\n1. me sleeping under a duvet and two thick wool blankets and still being cold bc my inner heating system is BROKEN i guess\\n2. me waking up at 3am on fire, because my dog has decided to snuggle in so now i have a duvet, 2 wool blankets, and a HEATER</td>\n",
              "      <td>2161529938</td>\n",
              "      <td>jenny 🌻</td>\n",
              "      <td>zebraflavoured</td>\n",
              "      <td>57</td>\n",
              "      <td>53</td>\n",
              "      <td>http://pbs.twimg.com/profile_images/1135299216052445184/74Yi0d2Y_normal.png</td>\n",
              "      <td>0</td>\n",
              "      <td>0</td>\n",
              "      <td>en</td>\n",
              "      <td>NaN</td>\n",
              "      <td>NaN</td>\n",
              "      <td>NaN</td>\n",
              "      <td>NaN</td>\n",
              "      <td>NaN</td>\n",
              "      <td>NaN</td>\n",
              "      <td>NaN</td>\n",
              "      <td>fire</td>\n",
              "      <td>2019-08-01</td>\n",
              "      <td>a night in my life consists of1\\. me sleeping under a duvet and two thick wool blankets and still being cold bc my inner heating system is broken i guess2\\. me waking up at 3am on fire because my dog has decided to snuggle in so now i have a duvet 2 wool blankets and a heater</td>\n",
              "    </tr>\n",
              "    <tr>\n",
              "      <th>3</th>\n",
              "      <td>2019-08-01 09:04:00</td>\n",
              "      <td>1156853281915908096</td>\n",
              "      <td>RT @NWSTopeka: More rain tonight and Friday. Additional rainfall of 2 to 4 inches is possible. Be ready to take action if in a flood prone area. #kswx https://t.co/WQiwaLuRDz</td>\n",
              "      <td>817325871560347649</td>\n",
              "      <td>KS Weather Updates</td>\n",
              "      <td>weather_ks</td>\n",
              "      <td>322</td>\n",
              "      <td>290</td>\n",
              "      <td>http://pbs.twimg.com/profile_images/817330554853085184/N1CYTsHw_normal.jpg</td>\n",
              "      <td>1</td>\n",
              "      <td>0</td>\n",
              "      <td>en</td>\n",
              "      <td>NaN</td>\n",
              "      <td>NaN</td>\n",
              "      <td>NaN</td>\n",
              "      <td>NaN</td>\n",
              "      <td>NaN</td>\n",
              "      <td>NaN</td>\n",
              "      <td>NaN</td>\n",
              "      <td>flood</td>\n",
              "      <td>2019-08-01</td>\n",
              "      <td>more rain tonight and friday\\. additional rainfall of 2 to 4 inches is possible\\. be ready to take action if in a flood prone area\\. kswx</td>\n",
              "    </tr>\n",
              "  </tbody>\n",
              "</table>\n",
              "</div>"
            ],
            "text/plain": [
              "           created_at           twitter_id  \\\n",
              "1 2019-08-01 09:04:00  1156853283950141444   \n",
              "2 2019-08-01 09:04:00  1156853282012356608   \n",
              "3 2019-08-01 09:04:00  1156853281915908096   \n",
              "\n",
              "                                                                                                                                                                                                                                                                                          text  \\\n",
              "1  RT @lj1105: I’m getting static on my posting of the Bible stance on Homosexuality. Make no mistake,,Homosexuals will NOT inherit the Kingdom. They WILL burn forever in the Lake Of Fire. They CAN ,however,be forgiven and have their sins blotted out. It’s your choice , life or death ?   \n",
              "2  a night in my life consists of\\n1. me sleeping under a duvet and two thick wool blankets and still being cold bc my inner heating system is BROKEN i guess\\n2. me waking up at 3am on fire, because my dog has decided to snuggle in so now i have a duvet, 2 wool blankets, and a HEATER     \n",
              "3  RT @NWSTopeka: More rain tonight and Friday. Additional rainfall of 2 to 4 inches is possible. Be ready to take action if in a flood prone area. #kswx https://t.co/WQiwaLuRDz                                                                                                                \n",
              "\n",
              "              user_id           user_name     screen_name  followers_count  \\\n",
              "1  742203452           @Ray mond           realraymondp    506               \n",
              "2  2161529938          jenny 🌻             zebraflavoured  57                \n",
              "3  817325871560347649  KS Weather Updates  weather_ks      322               \n",
              "\n",
              "   friends_count  \\\n",
              "1  676             \n",
              "2  53              \n",
              "3  290             \n",
              "\n",
              "                                                                 profile_image  \\\n",
              "1  http://pbs.twimg.com/profile_images/1147117231404457990/iuAjZLdb_normal.jpg   \n",
              "2  http://pbs.twimg.com/profile_images/1135299216052445184/74Yi0d2Y_normal.png   \n",
              "3  http://pbs.twimg.com/profile_images/817330554853085184/N1CYTsHw_normal.jpg    \n",
              "\n",
              "   retweet_count  favorite_count lang  latitude  longitude place_type  \\\n",
              "1  2              0               en  NaN       NaN         NaN         \n",
              "2  0              0               en  NaN       NaN         NaN         \n",
              "3  1              0               en  NaN       NaN         NaN         \n",
              "\n",
              "  place_name place_full_name country_code country disaster_type        date  \\\n",
              "1  NaN        NaN             NaN          NaN     fire          2019-08-01   \n",
              "2  NaN        NaN             NaN          NaN     fire          2019-08-01   \n",
              "3  NaN        NaN             NaN          NaN     flood         2019-08-01   \n",
              "\n",
              "                                                                                                                                                                                                                                                                             clean_text  \n",
              "1  i m getting static on my posting of the bible stance on homosexuality\\. make no mistake homosexuals will not inherit the kingdom\\. they will burn forever in the lake of fire\\. they can however be forgiven and have their sins blotted out\\. it s your choice life or death         \n",
              "2  a night in my life consists of1\\. me sleeping under a duvet and two thick wool blankets and still being cold bc my inner heating system is broken i guess2\\. me waking up at 3am on fire because my dog has decided to snuggle in so now i have a duvet 2 wool blankets and a heater  \n",
              "3  more rain tonight and friday\\. additional rainfall of 2 to 4 inches is possible\\. be ready to take action if in a flood prone area\\. kswx                                                                                                                                             "
            ]
          },
          "metadata": {
            "tags": []
          },
          "execution_count": 10
        }
      ]
    },
    {
      "cell_type": "markdown",
      "metadata": {
        "id": "coD2ogHmCSmn",
        "colab_type": "text"
      },
      "source": [
        "## TOKENIZE"
      ]
    },
    {
      "cell_type": "code",
      "metadata": {
        "id": "c9r7qulwCSmo",
        "colab_type": "code",
        "outputId": "4069afee-2008-4f1a-cc0f-3405ccf9f233",
        "colab": {
          "base_uri": "https://localhost:8080/",
          "height": 501
        }
      },
      "source": [
        "df['tokens'] = df['clean_text'].str.split(' ') \n",
        "df[['text', 'clean_text', 'tokens']].head(3)"
      ],
      "execution_count": 11,
      "outputs": [
        {
          "output_type": "execute_result",
          "data": {
            "text/html": [
              "<div>\n",
              "<style scoped>\n",
              "    .dataframe tbody tr th:only-of-type {\n",
              "        vertical-align: middle;\n",
              "    }\n",
              "\n",
              "    .dataframe tbody tr th {\n",
              "        vertical-align: top;\n",
              "    }\n",
              "\n",
              "    .dataframe thead th {\n",
              "        text-align: right;\n",
              "    }\n",
              "</style>\n",
              "<table border=\"1\" class=\"dataframe\">\n",
              "  <thead>\n",
              "    <tr style=\"text-align: right;\">\n",
              "      <th></th>\n",
              "      <th>text</th>\n",
              "      <th>clean_text</th>\n",
              "      <th>tokens</th>\n",
              "    </tr>\n",
              "  </thead>\n",
              "  <tbody>\n",
              "    <tr>\n",
              "      <th>1</th>\n",
              "      <td>RT @lj1105: I’m getting static on my posting of the Bible stance on Homosexuality. Make no mistake,,Homosexuals will NOT inherit the Kingdom. They WILL burn forever in the Lake Of Fire. They CAN ,however,be forgiven and have their sins blotted out. It’s your choice , life or death ?</td>\n",
              "      <td>i m getting static on my posting of the bible stance on homosexuality\\. make no mistake homosexuals will not inherit the kingdom\\. they will burn forever in the lake of fire\\. they can however be forgiven and have their sins blotted out\\. it s your choice life or death</td>\n",
              "      <td>[i, m, getting, static, on, my, posting, of, the, bible, stance, on, homosexuality\\., make, no, mistake, homosexuals, will, not, inherit, the, kingdom\\., they, will, burn, forever, in, the, lake, of, fire\\., they, can, however, be, forgiven, and, have, their, sins, blotted, out\\., it, s, your, choice, life, or, death]</td>\n",
              "    </tr>\n",
              "    <tr>\n",
              "      <th>2</th>\n",
              "      <td>a night in my life consists of\\n1. me sleeping under a duvet and two thick wool blankets and still being cold bc my inner heating system is BROKEN i guess\\n2. me waking up at 3am on fire, because my dog has decided to snuggle in so now i have a duvet, 2 wool blankets, and a HEATER</td>\n",
              "      <td>a night in my life consists of1\\. me sleeping under a duvet and two thick wool blankets and still being cold bc my inner heating system is broken i guess2\\. me waking up at 3am on fire because my dog has decided to snuggle in so now i have a duvet 2 wool blankets and a heater</td>\n",
              "      <td>[a, night, in, my, life, consists, of1\\., me, sleeping, under, a, duvet, and, two, thick, wool, blankets, and, still, being, cold, bc, my, inner, heating, system, is, broken, i, guess2\\., me, waking, up, at, 3am, on, fire, because, my, dog, has, decided, to, snuggle, in, so, now, i, have, a, duvet, 2, wool, blankets, and, a, heater]</td>\n",
              "    </tr>\n",
              "    <tr>\n",
              "      <th>3</th>\n",
              "      <td>RT @NWSTopeka: More rain tonight and Friday. Additional rainfall of 2 to 4 inches is possible. Be ready to take action if in a flood prone area. #kswx https://t.co/WQiwaLuRDz</td>\n",
              "      <td>more rain tonight and friday\\. additional rainfall of 2 to 4 inches is possible\\. be ready to take action if in a flood prone area\\. kswx</td>\n",
              "      <td>[more, rain, tonight, and, friday\\., additional, rainfall, of, 2, to, 4, inches, is, possible\\., be, ready, to, take, action, if, in, a, flood, prone, area\\., kswx]</td>\n",
              "    </tr>\n",
              "  </tbody>\n",
              "</table>\n",
              "</div>"
            ],
            "text/plain": [
              "                                                                                                                                                                                                                                                                                          text  \\\n",
              "1  RT @lj1105: I’m getting static on my posting of the Bible stance on Homosexuality. Make no mistake,,Homosexuals will NOT inherit the Kingdom. They WILL burn forever in the Lake Of Fire. They CAN ,however,be forgiven and have their sins blotted out. It’s your choice , life or death ?   \n",
              "2  a night in my life consists of\\n1. me sleeping under a duvet and two thick wool blankets and still being cold bc my inner heating system is BROKEN i guess\\n2. me waking up at 3am on fire, because my dog has decided to snuggle in so now i have a duvet, 2 wool blankets, and a HEATER     \n",
              "3  RT @NWSTopeka: More rain tonight and Friday. Additional rainfall of 2 to 4 inches is possible. Be ready to take action if in a flood prone area. #kswx https://t.co/WQiwaLuRDz                                                                                                                \n",
              "\n",
              "                                                                                                                                                                                                                                                                             clean_text  \\\n",
              "1  i m getting static on my posting of the bible stance on homosexuality\\. make no mistake homosexuals will not inherit the kingdom\\. they will burn forever in the lake of fire\\. they can however be forgiven and have their sins blotted out\\. it s your choice life or death          \n",
              "2  a night in my life consists of1\\. me sleeping under a duvet and two thick wool blankets and still being cold bc my inner heating system is broken i guess2\\. me waking up at 3am on fire because my dog has decided to snuggle in so now i have a duvet 2 wool blankets and a heater   \n",
              "3  more rain tonight and friday\\. additional rainfall of 2 to 4 inches is possible\\. be ready to take action if in a flood prone area\\. kswx                                                                                                                                              \n",
              "\n",
              "                                                                                                                                                                                                                                                                                                                                           tokens  \n",
              "1  [i, m, getting, static, on, my, posting, of, the, bible, stance, on, homosexuality\\., make, no, mistake, homosexuals, will, not, inherit, the, kingdom\\., they, will, burn, forever, in, the, lake, of, fire\\., they, can, however, be, forgiven, and, have, their, sins, blotted, out\\., it, s, your, choice, life, or, death]                 \n",
              "2  [a, night, in, my, life, consists, of1\\., me, sleeping, under, a, duvet, and, two, thick, wool, blankets, and, still, being, cold, bc, my, inner, heating, system, is, broken, i, guess2\\., me, waking, up, at, 3am, on, fire, because, my, dog, has, decided, to, snuggle, in, so, now, i, have, a, duvet, 2, wool, blankets, and, a, heater]  \n",
              "3  [more, rain, tonight, and, friday\\., additional, rainfall, of, 2, to, 4, inches, is, possible\\., be, ready, to, take, action, if, in, a, flood, prone, area\\., kswx]                                                                                                                                                                            "
            ]
          },
          "metadata": {
            "tags": []
          },
          "execution_count": 11
        }
      ]
    },
    {
      "cell_type": "markdown",
      "metadata": {
        "id": "xiaC74aNCSmu",
        "colab_type": "text"
      },
      "source": [
        "## REMOVE STOP WORD"
      ]
    },
    {
      "cell_type": "code",
      "metadata": {
        "id": "z6IdJdVFCSmw",
        "colab_type": "code",
        "outputId": "af6a5025-91bc-48e4-994c-f2fbd3339c7b",
        "colab": {
          "base_uri": "https://localhost:8080/",
          "height": 72
        }
      },
      "source": [
        "from nltk.corpus import stopwords\n",
        "import nltk\n",
        "\n",
        "nltk.download('stopwords')"
      ],
      "execution_count": 12,
      "outputs": [
        {
          "output_type": "stream",
          "text": [
            "[nltk_data] Downloading package stopwords to /root/nltk_data...\n",
            "[nltk_data]   Unzipping corpora/stopwords.zip.\n"
          ],
          "name": "stdout"
        },
        {
          "output_type": "execute_result",
          "data": {
            "text/plain": [
              "True"
            ]
          },
          "metadata": {
            "tags": []
          },
          "execution_count": 12
        }
      ]
    },
    {
      "cell_type": "code",
      "metadata": {
        "id": "eiNSpjQ1CSm2",
        "colab_type": "code",
        "colab": {}
      },
      "source": [
        "# Load stop words\n",
        "stop_words = stopwords.words('english')"
      ],
      "execution_count": 0,
      "outputs": []
    },
    {
      "cell_type": "code",
      "metadata": {
        "id": "9PxIqTUMCSm7",
        "colab_type": "code",
        "colab": {}
      },
      "source": [
        "df['clean_tokens'] = df['tokens'].apply(lambda tokens : [word for word in tokens if word not in stop_words and len(word) > 3])"
      ],
      "execution_count": 0,
      "outputs": []
    },
    {
      "cell_type": "code",
      "metadata": {
        "id": "suLuu9BBCSnG",
        "colab_type": "code",
        "outputId": "af37f22f-3796-4327-9759-f9491f2919fb",
        "colab": {
          "base_uri": "https://localhost:8080/",
          "height": 1000
        }
      },
      "source": [
        "df.head(3)"
      ],
      "execution_count": 16,
      "outputs": [
        {
          "output_type": "execute_result",
          "data": {
            "text/html": [
              "<div>\n",
              "<style scoped>\n",
              "    .dataframe tbody tr th:only-of-type {\n",
              "        vertical-align: middle;\n",
              "    }\n",
              "\n",
              "    .dataframe tbody tr th {\n",
              "        vertical-align: top;\n",
              "    }\n",
              "\n",
              "    .dataframe thead th {\n",
              "        text-align: right;\n",
              "    }\n",
              "</style>\n",
              "<table border=\"1\" class=\"dataframe\">\n",
              "  <thead>\n",
              "    <tr style=\"text-align: right;\">\n",
              "      <th></th>\n",
              "      <th>created_at</th>\n",
              "      <th>twitter_id</th>\n",
              "      <th>text</th>\n",
              "      <th>user_id</th>\n",
              "      <th>user_name</th>\n",
              "      <th>screen_name</th>\n",
              "      <th>followers_count</th>\n",
              "      <th>friends_count</th>\n",
              "      <th>profile_image</th>\n",
              "      <th>retweet_count</th>\n",
              "      <th>favorite_count</th>\n",
              "      <th>lang</th>\n",
              "      <th>latitude</th>\n",
              "      <th>longitude</th>\n",
              "      <th>place_type</th>\n",
              "      <th>place_name</th>\n",
              "      <th>place_full_name</th>\n",
              "      <th>country_code</th>\n",
              "      <th>country</th>\n",
              "      <th>disaster_type</th>\n",
              "      <th>date</th>\n",
              "      <th>clean_text</th>\n",
              "      <th>tokens</th>\n",
              "      <th>clean_tokens</th>\n",
              "    </tr>\n",
              "  </thead>\n",
              "  <tbody>\n",
              "    <tr>\n",
              "      <th>1</th>\n",
              "      <td>2019-08-01 09:04:00</td>\n",
              "      <td>1156853283950141444</td>\n",
              "      <td>RT @lj1105: I’m getting static on my posting of the Bible stance on Homosexuality. Make no mistake,,Homosexuals will NOT inherit the Kingdom. They WILL burn forever in the Lake Of Fire. They CAN ,however,be forgiven and have their sins blotted out. It’s your choice , life or death ?</td>\n",
              "      <td>742203452</td>\n",
              "      <td>@Ray mond</td>\n",
              "      <td>realraymondp</td>\n",
              "      <td>506</td>\n",
              "      <td>676</td>\n",
              "      <td>http://pbs.twimg.com/profile_images/1147117231404457990/iuAjZLdb_normal.jpg</td>\n",
              "      <td>2</td>\n",
              "      <td>0</td>\n",
              "      <td>en</td>\n",
              "      <td>NaN</td>\n",
              "      <td>NaN</td>\n",
              "      <td>NaN</td>\n",
              "      <td>NaN</td>\n",
              "      <td>NaN</td>\n",
              "      <td>NaN</td>\n",
              "      <td>NaN</td>\n",
              "      <td>fire</td>\n",
              "      <td>2019-08-01</td>\n",
              "      <td>i m getting static on my posting of the bible stance on homosexuality\\. make no mistake homosexuals will not inherit the kingdom\\. they will burn forever in the lake of fire\\. they can however be forgiven and have their sins blotted out\\. it s your choice life or death</td>\n",
              "      <td>[i, m, getting, static, on, my, posting, of, the, bible, stance, on, homosexuality\\., make, no, mistake, homosexuals, will, not, inherit, the, kingdom\\., they, will, burn, forever, in, the, lake, of, fire\\., they, can, however, be, forgiven, and, have, their, sins, blotted, out\\., it, s, your, choice, life, or, death]</td>\n",
              "      <td>[getting, static, posting, bible, stance, homosexuality\\., make, mistake, homosexuals, inherit, kingdom\\., burn, forever, lake, fire\\., however, forgiven, sins, blotted, out\\., choice, life, death]</td>\n",
              "    </tr>\n",
              "    <tr>\n",
              "      <th>2</th>\n",
              "      <td>2019-08-01 09:04:00</td>\n",
              "      <td>1156853282012356608</td>\n",
              "      <td>a night in my life consists of\\n1. me sleeping under a duvet and two thick wool blankets and still being cold bc my inner heating system is BROKEN i guess\\n2. me waking up at 3am on fire, because my dog has decided to snuggle in so now i have a duvet, 2 wool blankets, and a HEATER</td>\n",
              "      <td>2161529938</td>\n",
              "      <td>jenny 🌻</td>\n",
              "      <td>zebraflavoured</td>\n",
              "      <td>57</td>\n",
              "      <td>53</td>\n",
              "      <td>http://pbs.twimg.com/profile_images/1135299216052445184/74Yi0d2Y_normal.png</td>\n",
              "      <td>0</td>\n",
              "      <td>0</td>\n",
              "      <td>en</td>\n",
              "      <td>NaN</td>\n",
              "      <td>NaN</td>\n",
              "      <td>NaN</td>\n",
              "      <td>NaN</td>\n",
              "      <td>NaN</td>\n",
              "      <td>NaN</td>\n",
              "      <td>NaN</td>\n",
              "      <td>fire</td>\n",
              "      <td>2019-08-01</td>\n",
              "      <td>a night in my life consists of1\\. me sleeping under a duvet and two thick wool blankets and still being cold bc my inner heating system is broken i guess2\\. me waking up at 3am on fire because my dog has decided to snuggle in so now i have a duvet 2 wool blankets and a heater</td>\n",
              "      <td>[a, night, in, my, life, consists, of1\\., me, sleeping, under, a, duvet, and, two, thick, wool, blankets, and, still, being, cold, bc, my, inner, heating, system, is, broken, i, guess2\\., me, waking, up, at, 3am, on, fire, because, my, dog, has, decided, to, snuggle, in, so, now, i, have, a, duvet, 2, wool, blankets, and, a, heater]</td>\n",
              "      <td>[night, life, consists, of1\\., sleeping, duvet, thick, wool, blankets, still, cold, inner, heating, system, broken, guess2\\., waking, fire, decided, snuggle, duvet, wool, blankets, heater]</td>\n",
              "    </tr>\n",
              "    <tr>\n",
              "      <th>3</th>\n",
              "      <td>2019-08-01 09:04:00</td>\n",
              "      <td>1156853281915908096</td>\n",
              "      <td>RT @NWSTopeka: More rain tonight and Friday. Additional rainfall of 2 to 4 inches is possible. Be ready to take action if in a flood prone area. #kswx https://t.co/WQiwaLuRDz</td>\n",
              "      <td>817325871560347649</td>\n",
              "      <td>KS Weather Updates</td>\n",
              "      <td>weather_ks</td>\n",
              "      <td>322</td>\n",
              "      <td>290</td>\n",
              "      <td>http://pbs.twimg.com/profile_images/817330554853085184/N1CYTsHw_normal.jpg</td>\n",
              "      <td>1</td>\n",
              "      <td>0</td>\n",
              "      <td>en</td>\n",
              "      <td>NaN</td>\n",
              "      <td>NaN</td>\n",
              "      <td>NaN</td>\n",
              "      <td>NaN</td>\n",
              "      <td>NaN</td>\n",
              "      <td>NaN</td>\n",
              "      <td>NaN</td>\n",
              "      <td>flood</td>\n",
              "      <td>2019-08-01</td>\n",
              "      <td>more rain tonight and friday\\. additional rainfall of 2 to 4 inches is possible\\. be ready to take action if in a flood prone area\\. kswx</td>\n",
              "      <td>[more, rain, tonight, and, friday\\., additional, rainfall, of, 2, to, 4, inches, is, possible\\., be, ready, to, take, action, if, in, a, flood, prone, area\\., kswx]</td>\n",
              "      <td>[rain, tonight, friday\\., additional, rainfall, inches, possible\\., ready, take, action, flood, prone, area\\., kswx]</td>\n",
              "    </tr>\n",
              "  </tbody>\n",
              "</table>\n",
              "</div>"
            ],
            "text/plain": [
              "           created_at           twitter_id  \\\n",
              "1 2019-08-01 09:04:00  1156853283950141444   \n",
              "2 2019-08-01 09:04:00  1156853282012356608   \n",
              "3 2019-08-01 09:04:00  1156853281915908096   \n",
              "\n",
              "                                                                                                                                                                                                                                                                                          text  \\\n",
              "1  RT @lj1105: I’m getting static on my posting of the Bible stance on Homosexuality. Make no mistake,,Homosexuals will NOT inherit the Kingdom. They WILL burn forever in the Lake Of Fire. They CAN ,however,be forgiven and have their sins blotted out. It’s your choice , life or death ?   \n",
              "2  a night in my life consists of\\n1. me sleeping under a duvet and two thick wool blankets and still being cold bc my inner heating system is BROKEN i guess\\n2. me waking up at 3am on fire, because my dog has decided to snuggle in so now i have a duvet, 2 wool blankets, and a HEATER     \n",
              "3  RT @NWSTopeka: More rain tonight and Friday. Additional rainfall of 2 to 4 inches is possible. Be ready to take action if in a flood prone area. #kswx https://t.co/WQiwaLuRDz                                                                                                                \n",
              "\n",
              "              user_id           user_name     screen_name  followers_count  \\\n",
              "1  742203452           @Ray mond           realraymondp    506               \n",
              "2  2161529938          jenny 🌻             zebraflavoured  57                \n",
              "3  817325871560347649  KS Weather Updates  weather_ks      322               \n",
              "\n",
              "   friends_count  \\\n",
              "1  676             \n",
              "2  53              \n",
              "3  290             \n",
              "\n",
              "                                                                 profile_image  \\\n",
              "1  http://pbs.twimg.com/profile_images/1147117231404457990/iuAjZLdb_normal.jpg   \n",
              "2  http://pbs.twimg.com/profile_images/1135299216052445184/74Yi0d2Y_normal.png   \n",
              "3  http://pbs.twimg.com/profile_images/817330554853085184/N1CYTsHw_normal.jpg    \n",
              "\n",
              "   retweet_count  favorite_count lang  latitude  longitude place_type  \\\n",
              "1  2              0               en  NaN       NaN         NaN         \n",
              "2  0              0               en  NaN       NaN         NaN         \n",
              "3  1              0               en  NaN       NaN         NaN         \n",
              "\n",
              "  place_name place_full_name country_code country disaster_type        date  \\\n",
              "1  NaN        NaN             NaN          NaN     fire          2019-08-01   \n",
              "2  NaN        NaN             NaN          NaN     fire          2019-08-01   \n",
              "3  NaN        NaN             NaN          NaN     flood         2019-08-01   \n",
              "\n",
              "                                                                                                                                                                                                                                                                             clean_text  \\\n",
              "1  i m getting static on my posting of the bible stance on homosexuality\\. make no mistake homosexuals will not inherit the kingdom\\. they will burn forever in the lake of fire\\. they can however be forgiven and have their sins blotted out\\. it s your choice life or death          \n",
              "2  a night in my life consists of1\\. me sleeping under a duvet and two thick wool blankets and still being cold bc my inner heating system is broken i guess2\\. me waking up at 3am on fire because my dog has decided to snuggle in so now i have a duvet 2 wool blankets and a heater   \n",
              "3  more rain tonight and friday\\. additional rainfall of 2 to 4 inches is possible\\. be ready to take action if in a flood prone area\\. kswx                                                                                                                                              \n",
              "\n",
              "                                                                                                                                                                                                                                                                                                                                           tokens  \\\n",
              "1  [i, m, getting, static, on, my, posting, of, the, bible, stance, on, homosexuality\\., make, no, mistake, homosexuals, will, not, inherit, the, kingdom\\., they, will, burn, forever, in, the, lake, of, fire\\., they, can, however, be, forgiven, and, have, their, sins, blotted, out\\., it, s, your, choice, life, or, death]                  \n",
              "2  [a, night, in, my, life, consists, of1\\., me, sleeping, under, a, duvet, and, two, thick, wool, blankets, and, still, being, cold, bc, my, inner, heating, system, is, broken, i, guess2\\., me, waking, up, at, 3am, on, fire, because, my, dog, has, decided, to, snuggle, in, so, now, i, have, a, duvet, 2, wool, blankets, and, a, heater]   \n",
              "3  [more, rain, tonight, and, friday\\., additional, rainfall, of, 2, to, 4, inches, is, possible\\., be, ready, to, take, action, if, in, a, flood, prone, area\\., kswx]                                                                                                                                                                             \n",
              "\n",
              "                                                                                                                                                                                            clean_tokens  \n",
              "1  [getting, static, posting, bible, stance, homosexuality\\., make, mistake, homosexuals, inherit, kingdom\\., burn, forever, lake, fire\\., however, forgiven, sins, blotted, out\\., choice, life, death]  \n",
              "2  [night, life, consists, of1\\., sleeping, duvet, thick, wool, blankets, still, cold, inner, heating, system, broken, guess2\\., waking, fire, decided, snuggle, duvet, wool, blankets, heater]           \n",
              "3  [rain, tonight, friday\\., additional, rainfall, inches, possible\\., ready, take, action, flood, prone, area\\., kswx]                                                                                   "
            ]
          },
          "metadata": {
            "tags": []
          },
          "execution_count": 16
        }
      ]
    },
    {
      "cell_type": "markdown",
      "metadata": {
        "id": "0rv-xDrZCSnN",
        "colab_type": "text"
      },
      "source": [
        "# ANALYZE"
      ]
    },
    {
      "cell_type": "code",
      "metadata": {
        "id": "XrOzGWIQ09XJ",
        "colab_type": "code",
        "outputId": "4dc43fbc-a299-4067-825c-d02ba5e04a47",
        "colab": {
          "base_uri": "https://localhost:8080/",
          "height": 35
        }
      },
      "source": [
        "!ls"
      ],
      "execution_count": 17,
      "outputs": [
        {
          "output_type": "stream",
          "text": [
            "sample_data\n"
          ],
          "name": "stdout"
        }
      ]
    },
    {
      "cell_type": "code",
      "metadata": {
        "id": "6M9pigSZIMMN",
        "colab_type": "code",
        "colab": {}
      },
      "source": [
        "!apt-get install openjdk-8-jdk-headless -qq > /dev/null\n",
        "!wget -q https://www-us.apache.org/dist/spark/spark-2.4.5/spark-2.4.5-bin-hadoop2.7.tgz\n",
        "!tar xf spark-2.4.5-bin-hadoop2.7.tgz\n",
        "!pip install -q findspark"
      ],
      "execution_count": 0,
      "outputs": []
    },
    {
      "cell_type": "code",
      "metadata": {
        "id": "0nsrBb1NIMfW",
        "colab_type": "code",
        "colab": {}
      },
      "source": [
        "import os\n",
        "os.environ[\"JAVA_HOME\"] = \"/usr/lib/jvm/java-8-openjdk-amd64\"\n",
        "os.environ[\"SPARK_HOME\"] = \"/content/spark-2.4.5-bin-hadoop2.7\"\n",
        "import findspark\n",
        "findspark.init()\n",
        "from pyspark.sql import SparkSession\n",
        "spark = SparkSession.builder.master(\"local[*]\").getOrCreate()"
      ],
      "execution_count": 0,
      "outputs": []
    },
    {
      "cell_type": "markdown",
      "metadata": {
        "id": "mYKgOOriCSnO",
        "colab_type": "text"
      },
      "source": [
        "## WORD COUNT"
      ]
    },
    {
      "cell_type": "code",
      "metadata": {
        "id": "kim5hA0gCSnP",
        "colab_type": "code",
        "colab": {}
      },
      "source": [
        "from pyspark.sql.functions import *\n",
        "from pyspark.sql.types import *\n",
        "from pyspark.sql import SparkSession"
      ],
      "execution_count": 0,
      "outputs": []
    },
    {
      "cell_type": "code",
      "metadata": {
        "id": "MZ2LFOjuCSnS",
        "colab_type": "code",
        "colab": {}
      },
      "source": [
        "spark = (SparkSession\n",
        "         .builder\n",
        "         .master(\"local\")\n",
        "         .appName(\"AnalyzeTwitterData\")\n",
        "         .getOrCreate()\n",
        "        )"
      ],
      "execution_count": 0,
      "outputs": []
    },
    {
      "cell_type": "code",
      "metadata": {
        "id": "D-Y2HxSACSnY",
        "colab_type": "code",
        "outputId": "f3e22d3d-8619-48e3-8f5b-fe16d27f85f5",
        "colab": {
          "base_uri": "https://localhost:8080/",
          "height": 221
        }
      },
      "source": [
        "spark"
      ],
      "execution_count": 22,
      "outputs": [
        {
          "output_type": "execute_result",
          "data": {
            "text/html": [
              "\n",
              "            <div>\n",
              "                <p><b>SparkSession - in-memory</b></p>\n",
              "                \n",
              "        <div>\n",
              "            <p><b>SparkContext</b></p>\n",
              "\n",
              "            <p><a href=\"http://5574427f43ae:4040\">Spark UI</a></p>\n",
              "\n",
              "            <dl>\n",
              "              <dt>Version</dt>\n",
              "                <dd><code>v2.4.5</code></dd>\n",
              "              <dt>Master</dt>\n",
              "                <dd><code>local[*]</code></dd>\n",
              "              <dt>AppName</dt>\n",
              "                <dd><code>pyspark-shell</code></dd>\n",
              "            </dl>\n",
              "        </div>\n",
              "        \n",
              "            </div>\n",
              "        "
            ],
            "text/plain": [
              "<pyspark.sql.session.SparkSession at 0x7fd3cebbb320>"
            ]
          },
          "metadata": {
            "tags": []
          },
          "execution_count": 22
        }
      ]
    },
    {
      "cell_type": "code",
      "metadata": {
        "id": "ZooIExPMCSnk",
        "colab_type": "code",
        "colab": {}
      },
      "source": [
        "DF = spark.createDataFrame(df[['created_at','date','clean_tokens','disaster_type']])"
      ],
      "execution_count": 0,
      "outputs": []
    },
    {
      "cell_type": "code",
      "metadata": {
        "code_folding": [],
        "id": "gdYwLVWeCSnx",
        "colab_type": "code",
        "colab": {}
      },
      "source": [
        "#word count output\n",
        "\n",
        "wordcount_DF = (DF\n",
        "                .withColumn(\"word\", explode(col(\"clean_tokens\")))\n",
        "                .groupBy('word')\n",
        "                .count()\n",
        "                .filter(col('count') > 20)\n",
        "                .sort(asc('word'))\n",
        "               )\n",
        "wordcount_df = wordcount_DF.toPandas()"
      ],
      "execution_count": 0,
      "outputs": []
    },
    {
      "cell_type": "code",
      "metadata": {
        "id": "nAluMp7LCSn0",
        "colab_type": "code",
        "outputId": "5c12587c-f8a6-482b-b4dd-6a332f65bbcf",
        "colab": {
          "base_uri": "https://localhost:8080/",
          "height": 138
        }
      },
      "source": [
        "wordcount_df.head(3)"
      ],
      "execution_count": 25,
      "outputs": [
        {
          "output_type": "execute_result",
          "data": {
            "text/html": [
              "<div>\n",
              "<style scoped>\n",
              "    .dataframe tbody tr th:only-of-type {\n",
              "        vertical-align: middle;\n",
              "    }\n",
              "\n",
              "    .dataframe tbody tr th {\n",
              "        vertical-align: top;\n",
              "    }\n",
              "\n",
              "    .dataframe thead th {\n",
              "        text-align: right;\n",
              "    }\n",
              "</style>\n",
              "<table border=\"1\" class=\"dataframe\">\n",
              "  <thead>\n",
              "    <tr style=\"text-align: right;\">\n",
              "      <th></th>\n",
              "      <th>word</th>\n",
              "      <th>count</th>\n",
              "    </tr>\n",
              "  </thead>\n",
              "  <tbody>\n",
              "    <tr>\n",
              "      <th>0</th>\n",
              "      <td>$40k\\.</td>\n",
              "      <td>23</td>\n",
              "    </tr>\n",
              "    <tr>\n",
              "      <th>1</th>\n",
              "      <td>&amp;amp;</td>\n",
              "      <td>9633</td>\n",
              "    </tr>\n",
              "    <tr>\n",
              "      <th>2</th>\n",
              "      <td>&amp;gt;</td>\n",
              "      <td>170</td>\n",
              "    </tr>\n",
              "  </tbody>\n",
              "</table>\n",
              "</div>"
            ],
            "text/plain": [
              "     word  count\n",
              "0  $40k\\.  23   \n",
              "1  &amp;   9633 \n",
              "2  &gt;    170  "
            ]
          },
          "metadata": {
            "tags": []
          },
          "execution_count": 25
        }
      ]
    },
    {
      "cell_type": "code",
      "metadata": {
        "id": "iJuNclgMCSn2",
        "colab_type": "code",
        "colab": {}
      },
      "source": [
        "#co-occurence output\n",
        "\n",
        "wordcount2_DF = (DF\n",
        "                 .select('disaster_type', 'date', 'created_at', 'clean_tokens')\n",
        "                 .withColumn(\"word\", explode(col(\"clean_tokens\")))\n",
        "                 .groupBy('disaster_type', 'date', 'created_at', 'word')\n",
        "                 .count()\n",
        "                 .filter(col('count') > 2)\n",
        "                 .sort(asc('disaster_type'), asc('date'), asc('created_at'), asc('word'))\n",
        "                )\n",
        "wordcount2_df = wordcount2_DF.toPandas()"
      ],
      "execution_count": 0,
      "outputs": []
    },
    {
      "cell_type": "code",
      "metadata": {
        "id": "TBfVkCMJCSn5",
        "colab_type": "code",
        "outputId": "5e594fb7-b1be-4d47-9798-0f81aee806fa",
        "colab": {
          "base_uri": "https://localhost:8080/",
          "height": 138
        }
      },
      "source": [
        "wordcount2_df.head(3)"
      ],
      "execution_count": 27,
      "outputs": [
        {
          "output_type": "execute_result",
          "data": {
            "text/html": [
              "<div>\n",
              "<style scoped>\n",
              "    .dataframe tbody tr th:only-of-type {\n",
              "        vertical-align: middle;\n",
              "    }\n",
              "\n",
              "    .dataframe tbody tr th {\n",
              "        vertical-align: top;\n",
              "    }\n",
              "\n",
              "    .dataframe thead th {\n",
              "        text-align: right;\n",
              "    }\n",
              "</style>\n",
              "<table border=\"1\" class=\"dataframe\">\n",
              "  <thead>\n",
              "    <tr style=\"text-align: right;\">\n",
              "      <th></th>\n",
              "      <th>disaster_type</th>\n",
              "      <th>date</th>\n",
              "      <th>created_at</th>\n",
              "      <th>word</th>\n",
              "      <th>count</th>\n",
              "    </tr>\n",
              "  </thead>\n",
              "  <tbody>\n",
              "    <tr>\n",
              "      <th>0</th>\n",
              "      <td>earthquake</td>\n",
              "      <td>2019-08-01</td>\n",
              "      <td>2019-08-01 00:01:00</td>\n",
              "      <td>earthquake</td>\n",
              "      <td>4</td>\n",
              "    </tr>\n",
              "    <tr>\n",
              "      <th>1</th>\n",
              "      <td>earthquake</td>\n",
              "      <td>2019-08-01</td>\n",
              "      <td>2019-08-01 00:03:00</td>\n",
              "      <td>earthquake</td>\n",
              "      <td>3</td>\n",
              "    </tr>\n",
              "    <tr>\n",
              "      <th>2</th>\n",
              "      <td>earthquake</td>\n",
              "      <td>2019-08-01</td>\n",
              "      <td>2019-08-01 00:08:00</td>\n",
              "      <td>earthquake</td>\n",
              "      <td>4</td>\n",
              "    </tr>\n",
              "  </tbody>\n",
              "</table>\n",
              "</div>"
            ],
            "text/plain": [
              "  disaster_type        date          created_at        word  count\n",
              "0  earthquake    2019-08-01 2019-08-01 00:01:00  earthquake  4    \n",
              "1  earthquake    2019-08-01 2019-08-01 00:03:00  earthquake  3    \n",
              "2  earthquake    2019-08-01 2019-08-01 00:08:00  earthquake  4    "
            ]
          },
          "metadata": {
            "tags": []
          },
          "execution_count": 27
        }
      ]
    },
    {
      "cell_type": "markdown",
      "metadata": {
        "id": "7Cxig73TCSpi",
        "colab_type": "text"
      },
      "source": [
        "# EXPORT"
      ]
    },
    {
      "cell_type": "code",
      "metadata": {
        "id": "BIB5hdFUCSpj",
        "colab_type": "code",
        "colab": {}
      },
      "source": [
        "df.to_csv(\n",
        "    'text.csv', \n",
        "    mode = 'w', \n",
        "    header = True,\n",
        "    index = False\n",
        ")\n",
        "\n",
        "\n",
        "wordcount2_df.to_csv(\n",
        "    'word_statistic2.csv', \n",
        "    mode = 'w', \n",
        "    header = True,\n",
        "    index = False\n",
        ")"
      ],
      "execution_count": 0,
      "outputs": []
    }
  ]
}